{
 "cells": [
  {
   "cell_type": "markdown",
   "id": "260a4969",
   "metadata": {},
   "source": [
    "\n",
    "# Cyclistic 2022 Data Analysis using BigQuery SQL\n",
    "\n",
    "This notebook documents the steps taken to prepare and analyze the Cyclistic 2022 bike trip data using Google BigQuery SQL. Below are SQL queries used to create unified tables and perform exploratory data analysis.\n"
   ]
  },
  {
   "cell_type": "markdown",
   "id": "697ba725",
   "metadata": {},
   "source": [
    "## Step 1: Combine all monthly tables into one table"
   ]
  },
  {
   "cell_type": "markdown",
   "id": "a94d0843",
   "metadata": {},
   "source": [
    "## Step 1: Combine All Monthly Tables\n",
    "We use the `UNION ALL` command to merge all 12 individual monthly tables into a single table called `all_months`. This simplifies our analysis by allowing us to work with one unified dataset."
   ]
  },
  {
   "cell_type": "code",
   "execution_count": null,
   "id": "21d3495a",
   "metadata": {},
   "outputs": [],
   "source": [
    "\n",
    "CREATE TABLE awesome-tempo-374012.cyclistic_2022.all_months AS\n",
    "  SELECT *\n",
    "  FROM (\n",
    "    SELECT * FROM `awesome-tempo-374012.cyclistic_2022.January`\n",
    "    UNION ALL SELECT * FROM `awesome-tempo-374012.cyclistic_2022.February`\n",
    "    UNION ALL SELECT * FROM `awesome-tempo-374012.cyclistic_2022.March`\n",
    "    UNION ALL SELECT * FROM `awesome-tempo-374012.cyclistic_2022.April`\n",
    "    UNION ALL SELECT * FROM `awesome-tempo-374012.cyclistic_2022.May`\n",
    "    UNION ALL SELECT * FROM `awesome-tempo-374012.cyclistic_2022.June`\n",
    "    UNION ALL SELECT * FROM `awesome-tempo-374012.cyclistic_2022.July`\n",
    "    UNION ALL SELECT * FROM `awesome-tempo-374012.cyclistic_2022.August`\n",
    "    UNION ALL SELECT * FROM `awesome-tempo-374012.cyclistic_2022.September`\n",
    "    UNION ALL SELECT * FROM `awesome-tempo-374012.cyclistic_2022.October`\n",
    "    UNION ALL SELECT * FROM `awesome-tempo-374012.cyclistic_2022.November`\n",
    "    UNION ALL SELECT * FROM `awesome-tempo-374012.cyclistic_2022.December`\n",
    "  );\n"
   ]
  },
  {
   "cell_type": "markdown",
   "id": "fbda127e",
   "metadata": {},
   "source": [
    "## Step 2: Create Main Table with Derived Columns\n",
    "We add new fields to help with time-based analysis:\n",
    "- `month`: to identify seasonality\n",
    "- `day`: for weekday/weekend patterns\n",
    "- `hour`: to analyze peak hours\n",
    "- `duration_mins`: to calculate ride duration in minutes"
   ]
  },
  {
   "cell_type": "code",
   "execution_count": null,
   "id": "da60659d",
   "metadata": {},
   "outputs": [],
   "source": [
    "\n",
    "CREATE TABLE awesome-tempo-374012.cyclistic_2022.main_table AS\n",
    "  SELECT\n",
    "    ride_id,\n",
    "    rideable_type,\n",
    "    started_at,\n",
    "    ended_at,\n",
    "    ride_length,\n",
    "    member_casual,\n",
    "    CASE\n",
    "      WHEN EXTRACT(MONTH FROM started_at) = 1 THEN \"January\"\n",
    "      WHEN EXTRACT(MONTH FROM started_at) = 2 THEN \"February\"\n",
    "      WHEN EXTRACT(MONTH FROM started_at) = 3 THEN \"March\"\n",
    "      WHEN EXTRACT(MONTH FROM started_at) = 4 THEN \"April\"\n",
    "      WHEN EXTRACT(MONTH FROM started_at) = 5 THEN \"May\"\n",
    "      WHEN EXTRACT(MONTH FROM started_at) = 6 THEN \"June\"\n",
    "      WHEN EXTRACT(MONTH FROM started_at) = 7 THEN \"July\"\n",
    "      WHEN EXTRACT(MONTH FROM started_at) = 8 THEN \"August\"\n",
    "      WHEN EXTRACT(MONTH FROM started_at) = 9 THEN \"September\"\n",
    "      WHEN EXTRACT(MONTH FROM started_at) = 10 THEN \"October\"\n",
    "      WHEN EXTRACT(MONTH FROM started_at) = 11 THEN \"November\"\n",
    "      ELSE \"December\"\n",
    "    END AS month,\n",
    "    CASE\n",
    "      WHEN EXTRACT(DAYOFWEEK FROM started_at) = 1 THEN \"Sunday\"\n",
    "      WHEN EXTRACT(DAYOFWEEK FROM started_at) = 2 THEN \"Monday\"\n",
    "      WHEN EXTRACT(DAYOFWEEK FROM started_at) = 3 THEN \"Tuesday\"\n",
    "      WHEN EXTRACT(DAYOFWEEK FROM started_at) = 4 THEN \"Wednesday\"\n",
    "      WHEN EXTRACT(DAYOFWEEK FROM started_at) = 5 THEN \"Thursday\"\n",
    "      WHEN EXTRACT(DAYOFWEEK FROM started_at) = 6 THEN \"Friday\"\n",
    "      ELSE \"Saturday\"\n",
    "    END AS day,\n",
    "    EXTRACT(HOUR FROM started_at) AS hour,\n",
    "    DATE_DIFF(ended_at, started_at, minute) AS duration_mins\n",
    "  FROM `awesome-tempo-374012.cyclistic_2022.all_months`\n",
    "  ORDER BY started_at ASC;\n"
   ]
  },
  {
   "cell_type": "markdown",
   "id": "69213681",
   "metadata": {},
   "source": [
    "## Step 3: Membership Proportions\n",
    "This query shows the total number of rides and the percentage split between casual users and annual members."
   ]
  },
  {
   "cell_type": "code",
   "execution_count": null,
   "id": "0b6503ac",
   "metadata": {},
   "outputs": [],
   "source": [
    "\n",
    "SELECT\n",
    "  member_casual AS membership_type,\n",
    "  COUNT(member_casual) AS total_rides,\n",
    "  ROUND(COUNT(member_casual) / SUM(COUNT(member_casual)) OVER() * 100, 2) AS percentage\n",
    "FROM \n",
    "  `awesome-tempo-374012.cyclistic_2022.main_table`\n",
    "GROUP BY\n",
    "  member_casual\n",
    "ORDER BY\n",
    "  member_casual;\n"
   ]
  },
  {
   "cell_type": "markdown",
   "id": "111bcbec",
   "metadata": {},
   "source": [
    "## Step 4: Bike Type Usage by Membership\n",
    "This gives insight into how different bike types are used by casual riders vs. members."
   ]
  },
  {
   "cell_type": "code",
   "execution_count": null,
   "id": "fea3b06f",
   "metadata": {},
   "outputs": [],
   "source": [
    "\n",
    "SELECT\n",
    "  rideable_type AS bike_type,\n",
    "  member_casual AS membership_type,\n",
    "  COUNT(rideable_type) AS total_rides,\n",
    "  ROUND(COUNT(rideable_type) / SUM(COUNT(rideable_type)) OVER(PARTITION BY rideable_type) * 100, 2) AS percentage_per_bike_type\n",
    "FROM \n",
    "  `awesome-tempo-374012.cyclistic_2022.main_table`\n",
    "GROUP BY \n",
    "  rideable_type, member_casual\n",
    "ORDER BY\n",
    "  rideable_type, member_casual;\n"
   ]
  },
  {
   "cell_type": "markdown",
   "id": "580fd27a",
   "metadata": {},
   "source": [
    "## Step 5: Monthly Ride Frequency\n",
    "We analyze ride trends across different months to identify seasonal behaviors and usage patterns."
   ]
  },
  {
   "cell_type": "code",
   "execution_count": null,
   "id": "769697f3",
   "metadata": {},
   "outputs": [],
   "source": [
    "\n",
    "SELECT \n",
    "  month,\n",
    "  member_casual,\n",
    "  COUNT(month) AS total_rides,\n",
    "  ROUND(COUNT(month) / SUM(COUNT(month)) OVER(PARTITION BY month) * 100, 2) AS percentage_per_month\n",
    "FROM\n",
    "  `awesome-tempo-374012.cyclistic_2022.main_table`\n",
    "GROUP BY\n",
    "  month, member_casual\n",
    "ORDER BY\n",
    "  month, member_casual;\n"
   ]
  },
  {
   "cell_type": "markdown",
   "id": "7132e3cf",
   "metadata": {},
   "source": [
    "## Step 6: Ride Frequency by Day\n",
    "This query shows the ride counts for each day of the week, broken down by membership type."
   ]
  },
  {
   "cell_type": "code",
   "execution_count": null,
   "id": "f9685313",
   "metadata": {},
   "outputs": [],
   "source": [
    "\n",
    "SELECT \n",
    "  day,\n",
    "  member_casual,\n",
    "  COUNT(day) AS total_rides\n",
    "FROM\n",
    "  `awesome-tempo-374012.cyclistic_2022.main_table`\n",
    "GROUP BY\n",
    "  day, member_casual\n",
    "ORDER BY\n",
    "  day, member_casual;\n"
   ]
  },
  {
   "cell_type": "markdown",
   "id": "818e0087",
   "metadata": {},
   "source": [
    "## Step 7: Ride Frequency by Hour\n",
    "This helps us understand the time of day when casual and member riders are most active."
   ]
  },
  {
   "cell_type": "code",
   "execution_count": null,
   "id": "1a5f8feb",
   "metadata": {},
   "outputs": [],
   "source": [
    "\n",
    "SELECT \n",
    "  member_casual,\n",
    "  hour,\n",
    "  COUNT(hour) AS total_rides\n",
    "FROM\n",
    "  `awesome-tempo-374012.cyclistic_2022.main_table`\n",
    "GROUP BY\n",
    "  member_casual, hour\n",
    "ORDER BY\n",
    "  member_casual, hour;\n"
   ]
  },
  {
   "cell_type": "markdown",
   "id": "78895559",
   "metadata": {},
   "source": [
    "## Step 8: Average Ride Duration by Day\n",
    "This provides the average duration (in minutes) of rides for each day of the week, segmented by user type."
   ]
  },
  {
   "cell_type": "code",
   "execution_count": null,
   "id": "931259ac",
   "metadata": {},
   "outputs": [],
   "source": [
    "\n",
    "SELECT\n",
    "  day,\n",
    "  member_casual,\n",
    "  ROUND(AVG(duration_mins), 2) AS avg_duration_mins\n",
    "FROM\n",
    "  `awesome-tempo-374012.cyclistic_2022.main_table`\n",
    "GROUP BY\n",
    "  day, member_casual\n",
    "ORDER BY\n",
    "  day, member_casual;\n"
   ]
  }
 ],
 "metadata": {},
 "nbformat": 4,
 "nbformat_minor": 5
}
